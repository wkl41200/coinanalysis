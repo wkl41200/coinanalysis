{
 "cells": [
  {
   "cell_type": "code",
   "execution_count": null,
   "id": "bf3ae8e7",
   "metadata": {},
   "outputs": [],
   "source": [
    "#import folder\n",
    "\n",
    "import pandas as pd\n",
    "import numpy as np\n",
    "\n",
    "df = pd.read_csv('../Clean_data/btcfunding_agg.csv')\n",
    "\n",
    "df[\"calc_time\"] = pd.to_datetime(df[\"calc_time\"], utc=True, errors=\"coerce\")\n",
    "df[\"last_funding_rate\"] = pd.to_numeric(df[\"last_funding_rate\"], errors=\"coerce\")\n",
    "\n",
    "df"
   ]
  },
  {
   "cell_type": "code",
   "execution_count": 44,
   "id": "c1655dd3",
   "metadata": {},
   "outputs": [],
   "source": [
    "\n",
    "\n",
    "funding_day = (\n",
    "    df.set_index(\"calc_time\")\n",
    "      .resample(\"1D\")\n",
    "      .agg(\n",
    "          funding_mean = (\"last_funding_rate\", \"mean\"),\n",
    "          funding_first= (\"last_funding_rate\", \"first\"),\n",
    "          funding_last = (\"last_funding_rate\", \"last\"),\n",
    "          funding_std  = (\"last_funding_rate\", \"std\"),   # <- optional\n",
    "      )\n",
    "      .reset_index()\n",
    "      .rename(columns={\"calc_time\": \"date\"})\n",
    ")\n",
    "\n",
    "z30_funding = funding_day[\"funding_mean\"].rolling(window=30, min_periods=30)\n",
    "funding_day[\"z30_funding\"] = (funding_day[\"funding_mean\"] - z30_funding.mean()) / z30_funding.std(ddof=0)\n",
    "\n",
    "z7_funding = funding_day[\"funding_mean\"].rolling(window=7, min_periods=7)\n",
    "funding_day[\"z7_funding\"] = (funding_day[\"funding_mean\"] - z7_funding.mean()) / z7_funding.std(ddof=0)\n",
    "\n",
    "funding_day[\"funding_sign\"] = np.sign(funding_day[\"funding_last\"]).astype(int)\n",
    "\n",
    "funding_day[\"sign_changed\"] = funding_day[\"funding_sign\"].ne(funding_day[\"funding_sign\"].shift(1)).astype(int)\n",
    "groups = funding_day[\"sign_changed\"].cumsum()\n",
    "\n",
    "funding_day[\"funding_streak\"] = funding_day.groupby(groups).cumcount() + 1  #how many days in a row has funding stayed the same sign up to today?\n",
    "\n",
    "funding_day[\"daily_funding_sum\"] = funding_day[\"funding_mean\"] * 3\n",
    "funding_day[\"cumfund_7d\"] = (\n",
    "    funding_day[\"daily_funding_sum\"].rolling(window=7, min_periods=7).sum()\n",
    ")\n",
    "\n",
    "\n",
    "funding_day[\"funding_extreme_pos\"] = funding_day[\"z30_funding\"] > 2\n",
    "funding_day[\"funding_extreme_neg\"] = funding_day[\"z30_funding\"] < -2\n",
    "\n",
    "\n",
    "funding_day.to_csv(\"../Idea_data/funding_daily.csv\")\n"
   ]
  }
 ],
 "metadata": {
  "kernelspec": {
   "display_name": ".venv",
   "language": "python",
   "name": "python3"
  },
  "language_info": {
   "codemirror_mode": {
    "name": "ipython",
    "version": 3
   },
   "file_extension": ".py",
   "mimetype": "text/x-python",
   "name": "python",
   "nbconvert_exporter": "python",
   "pygments_lexer": "ipython3",
   "version": "3.13.7"
  }
 },
 "nbformat": 4,
 "nbformat_minor": 5
}
