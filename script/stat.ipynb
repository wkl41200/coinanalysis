{
 "cells": [
  {
   "cell_type": "code",
   "execution_count": null,
   "id": "c417301a",
   "metadata": {},
   "outputs": [],
   "source": [
    "#import folder\n",
    "\n",
    "import pandas as pd\n",
    "import numpy as np\n",
    "\n",
    "spot_df = pd.read_csv('../btcspot_agg.csv')\n",
    "\n",
    "spot_df\n"
   ]
  },
  {
   "cell_type": "code",
   "execution_count": null,
   "id": "d5553a1d",
   "metadata": {},
   "outputs": [],
   "source": [
    "# ---Calculate % Daily Change (Close vs Previous Close) ---\n",
    "spot_df[\"normal_return\"] = spot_df[\"close\"].pct_change() * 100   # in %\n",
    "\n",
    "#30 days rolling stat of return\n",
    "roll = spot_df[\"normal_return\"].rolling(window=30)\n",
    "\n",
    "#Z-score of the returns (30-day)\n",
    "spot_df[\"30d_zscore_return\"] = (spot_df[\"normal_return\"] - roll.mean()) / roll.std()\n",
    "\n",
    "\n",
    "\n"
   ]
  },
  {
   "cell_type": "code",
   "execution_count": null,
   "id": "f3fd51bf",
   "metadata": {},
   "outputs": [],
   "source": [
    "# --- 3. Log Returns (safer for statistical analysis) ---\n",
    "spot_df[\"log_return\"] = np.log(spot_df[\"close\"] / spot_df[\"close\"].shift(1))\n",
    "\n",
    "#30 days rolling stat of log return\n",
    "roll = spot_df[\"log_return\"].rolling(window=30)\n",
    "\n",
    "#Z-score of the returns (30-day)\n",
    "spot_df[\"30d_zscore_logreturn\"] = (spot_df[\"log_return\"] - roll.mean()) / roll.std()"
   ]
  },
  {
   "cell_type": "code",
   "execution_count": null,
   "id": "1eafffcd",
   "metadata": {},
   "outputs": [],
   "source": [
    "# 7 days Mean/ SD computation\n",
    "\n",
    "# --- 4. Rolling Mean & Volatility (7-day window as example) ---\n",
    "spot_df[\"7d_rolling_mean\"] = spot_df[\"close\"].rolling(window=7).mean()\n",
    "spot_df[\"7d_rolling_volatility\"] = spot_df[\"normal_return\"].rolling(window=7).std()\n",
    "\n",
    "\n",
    "#30 days mean/SD computation\n",
    "# --- 4. Rolling Mean & Volatility (7-day window as example) ---\n",
    "spot_df[\"30d_rolling_mean\"] = spot_df[\"close\"].rolling(window=30).mean()\n",
    "spot_df[\"30d_rolling_volatility\"] = spot_df[\"normal_return\"].rolling(window=30).std()\n",
    "\n",
    "\n",
    "#7 days z score\n",
    "# --- 5. Z-Score of Close Price (7-day window example) ---\n",
    "spot_df[\"7d_zscore\"] = (spot_df[\"close\"] - spot_df[\"close\"].rolling(7).mean()) / spot_df[\"close\"].rolling(7).std()\n",
    "\n",
    "\n",
    "#30 days z score\n",
    "# --- 5. Z-Score of Close Price (30-day window example) ---\n",
    "spot_df[\"30d_zscore\"] = (spot_df[\"close\"] - spot_df[\"close\"].rolling(30).mean()) / spot_df[\"close\"].rolling(30).std()\n",
    "\n",
    "\n",
    "\n",
    "\n",
    "\n"
   ]
  },
  {
   "cell_type": "code",
   "execution_count": null,
   "id": "d2928c4f",
   "metadata": {},
   "outputs": [],
   "source": [
    "\n",
    "# --- Volume % Change ---\n",
    "spot_df[\"volume_change_%\"] = spot_df[\"volume\"].pct_change() * 100\n",
    "\n",
    "#30days#\n",
    "#30 days rolling stat of log return\n",
    "roll = spot_df[\"volume_change_%\"].rolling(window=30)\n",
    "\n",
    "#Z-score of the returns (30-day)\n",
    "spot_df[\"30d_zscore_volume_change\"] = (spot_df[\"volume_change_%\"] - roll.mean()) / roll.std()\n",
    "\n",
    "\n",
    "#7days\n",
    "#7 days rolling stat of log return\n",
    "roll = spot_df[\"volume_change_%\"].rolling(window=7)\n",
    "\n",
    "#Z-score of the returns (30-day)\n",
    "spot_df[\"7d_zscore_volume_change\"] = (spot_df[\"volume_change_%\"] - roll.mean()) / roll.std()\n",
    "\n",
    "\n",
    "spot_df\n",
    "\n"
   ]
  },
  {
   "cell_type": "code",
   "execution_count": 39,
   "id": "5269950a",
   "metadata": {},
   "outputs": [],
   "source": [
    "#exporting z score to csv\n",
    "cols_to_export = [\n",
    "    \"close\", \"volume\",\n",
    "    \"normal_return\", \"log_return\",\n",
    "    \"7d_rolling_mean\", \"7d_rolling_volatility\",\n",
    "    \"30d_rolling_mean\", \"30d_rolling_volatility\",\n",
    "    \"7d_zscore\", \"30d_zscore\",\n",
    "    \"30d_zscore_return\", \"30d_zscore_logreturn\",\n",
    "    \"volume_change_%\", \"7d_zscore_volume_change\", \"30d_zscore_volume_change\"\n",
    "]\n",
    "spot_df[cols_to_export].to_csv(\"../zscore.csv\", index=False)\n"
   ]
  },
  {
   "cell_type": "code",
   "execution_count": null,
   "id": "bd9a2169",
   "metadata": {},
   "outputs": [],
   "source": [
    "# 1) Trend context\n",
    "spot_df[\"ema200\"] = spot_df[\"close\"].ewm(span=200, adjust=False).mean()\n",
    "spot_df[\"above_ema200\"] = spot_df[\"close\"] > spot_df[\"ema200\"]\n",
    "\n",
    "\n"
   ]
  },
  {
   "cell_type": "code",
   "execution_count": null,
   "id": "39edae9b",
   "metadata": {},
   "outputs": [],
   "source": [
    "spot_df.describe()\n",
    "\n",
    "spot_df.loc[(spot_df['zscore'] > 0.38) | (spot_df['zscore'] < -0.38)]"
   ]
  }
 ],
 "metadata": {
  "kernelspec": {
   "display_name": "venv",
   "language": "python",
   "name": "python3"
  },
  "language_info": {
   "codemirror_mode": {
    "name": "ipython",
    "version": 3
   },
   "file_extension": ".py",
   "mimetype": "text/x-python",
   "name": "python",
   "nbconvert_exporter": "python",
   "pygments_lexer": "ipython3",
   "version": "3.13.7"
  }
 },
 "nbformat": 4,
 "nbformat_minor": 5
}
