{
 "cells": [
  {
   "cell_type": "code",
   "execution_count": 5,
   "id": "023aa20a",
   "metadata": {},
   "outputs": [],
   "source": [
    "import pandas as pd\n",
    "\n",
    "\n",
    "spot = pd.read_csv('../Idea_data/spot_cal.csv')\n",
    "future = pd.read_csv('../Idea_data/future.cal.csv')\n",
    "funding = pd.read_csv('../Idea_data/funding_daily.csv')\n",
    "\n",
    "\n",
    "\n",
    "#data cleaning\n",
    "spot.rename(columns={\"open_time\": \"date\"}, inplace=True)\n",
    "future.rename(columns={\"open_time\": \"date\"}, inplace=True)\n",
    "\n",
    "funding[\"date\"] = pd.to_datetime(funding[\"date\"]).dt.tz_localize(None)  # remove timezone if present\n",
    "spot[\"date\"] = pd.to_datetime(spot[\"date\"])  # normal conversion\n",
    "future[\"date\"] = pd.to_datetime(future[\"date\"])  # normal conversion\n",
    "\n",
    "\n",
    "future = (future\n",
    "          .sort_values('date')        # keep last if you want calc columns to win\n",
    "          .drop_duplicates(subset='date', keep='last')\n",
    "         )\n",
    "assert future['date'].is_unique\n"
   ]
  },
  {
   "cell_type": "code",
   "execution_count": 6,
   "id": "9775377d",
   "metadata": {},
   "outputs": [
    {
     "data": {
      "text/plain": [
       "Index(['date', 'open_x', 'high_x', 'low_x', 'close_x', 'spot_volume',\n",
       "       'spot_return', 'spot_log_return', 'spot_z30d_return',\n",
       "       'spot_z30d_logreturn', 'intraday_x', 'z_intraday_30_x',\n",
       "       'spot_z30d_price', 'spot_z30d_volume', 'spot_z30d_vol_change',\n",
       "       'spot_z7d_price', 'spot_z7d_vol_change', 'ema200', 'above_ema200',\n",
       "       'Unnamed: 0_x', 'open_y', 'high_y', 'low_y', 'close_y', 'volume',\n",
       "       'close_time', 'quote_volume', 'count', 'taker_buy_volume',\n",
       "       'taker_buy_quote_volume', 'prep_normal_return', 'Z_prep_30d_return',\n",
       "       'prep_log_return', 'Z_prep30d_logreturn', 'prep_7d_rolling_mean',\n",
       "       'prep_7d_rolling_volatility', 'z_prep_7d', 'prep_30d_rolling_mean',\n",
       "       'prep_30d_rolling_volatility', 'z_prep_30d', 'intraday_y',\n",
       "       'z_intraday_30_y', 'z_prep_volume', 'prep_volume_change_%',\n",
       "       'z_prep_30d_volume_change', 'z_prep_7d_volume_change',\n",
       "       'taker_sell_volume', 'buy_share', 'sell_share', 'OFI', 'z_prep_OFI',\n",
       "       'prep_average_trade_volume_inU', 'prep_average_trade_volume_inbtc',\n",
       "       'z_prep_30d_average_trade_inU', 'Unnamed: 0_y', 'funding_mean',\n",
       "       'funding_first', 'funding_last', 'funding_std', 'z30_funding',\n",
       "       'z7_funding', 'funding_sign', 'sign_changed', 'funding_streak',\n",
       "       'daily_funding_sum', 'cumfund_7d', 'funding_extreme_pos',\n",
       "       'funding_extreme_neg'],\n",
       "      dtype='object')"
      ]
     },
     "execution_count": 6,
     "metadata": {},
     "output_type": "execute_result"
    }
   ],
   "source": [
    "\n",
    "spot = spot.rename(columns={\n",
    "    \"volume\": \"spot_volume\",\n",
    "    \"normal_return\": \"spot_return\",\n",
    "    \"log_return\": \"spot_log_return\",\n",
    "    \"30d_zscore_return\": \"spot_z30d_return\",\n",
    "    \"30d_zscore_logreturn\": \"spot_z30d_logreturn\",\n",
    "    \"30d_zscore\": \"spot_z30d_price\",\n",
    "    \"30d_zscore_volume\": \"spot_z30d_volume\",\n",
    "    \"30d_zscore_volume_change\": \"spot_z30d_vol_change\",\n",
    "    \"7d_zscore\": \"spot_z7d_price\",\n",
    "    \"7d_zscore_volume_change\": \"spot_z7d_vol_change\"\n",
    "})[[\n",
    "    \"date\", \"open\", \"high\", \"low\", \"close\", \"spot_volume\",\n",
    "    \"spot_return\", \"spot_log_return\", \"spot_z30d_return\",\n",
    "    \"spot_z30d_logreturn\", \"intraday\", \"z_intraday_30\",\n",
    "    \"spot_z30d_price\", \"spot_z30d_volume\", \"spot_z30d_vol_change\",\n",
    "    \"spot_z7d_price\", \"spot_z7d_vol_change\", \"ema200\", \"above_ema200\"\n",
    "]]\n",
    "\n",
    "\n",
    "master = (\n",
    "    spot\n",
    "    .merge(future, on=\"date\", how=\"inner\")\n",
    "    .merge(funding, on=\"date\", how=\"inner\")\n",
    ")\n",
    "\n",
    "\n",
    "master.columns"
   ]
  },
  {
   "cell_type": "code",
   "execution_count": 7,
   "id": "4911ae6a",
   "metadata": {},
   "outputs": [
    {
     "name": "stdout",
     "output_type": "stream",
     "text": [
      "Index(['date', 'spot_volume', 'spot_return', 'spot_log_return',\n",
      "       'spot_z30d_return', 'spot_z30d_logreturn', 'spot_z30d_price',\n",
      "       'spot_z30d_volume', 'spot_z30d_vol_change', 'spot_z7d_price',\n",
      "       'spot_z7d_vol_change', 'ema200', 'above_ema200', 'open', 'high', 'low',\n",
      "       'close', 'prep_volume', 'quote_volume', 'taker_buy_volume',\n",
      "       'taker_buy_quote_volume', 'prep_normal_return', 'Z_prep_30d_return',\n",
      "       'prep_log_return', 'Z_prep30d_logreturn', 'prep_7d_rolling_mean',\n",
      "       'prep_7d_rolling_volatility', 'z_prep_7d', 'prep_30d_rolling_mean',\n",
      "       'prep_30d_rolling_volatility', 'z_prep_30d', 'z_prep_volume',\n",
      "       'prep_volume_change_%', 'z_prep_30d_volume_change',\n",
      "       'z_prep_7d_volume_change', 'taker_sell_volume', 'buy_share',\n",
      "       'sell_share', 'OFI', 'z_prep_OFI', 'prep_average_trade_volume_inU',\n",
      "       'prep_average_trade_volume_inbtc', 'z_prep_30d_average_trade_inU',\n",
      "       'funding_mean', 'funding_first', 'funding_last', 'funding_std',\n",
      "       'z30_funding', 'z7_funding', 'funding_sign', 'sign_changed',\n",
      "       'funding_streak', 'daily_funding_sum', 'cumfund_7d',\n",
      "       'funding_extreme_pos', 'funding_extreme_neg'],\n",
      "      dtype='object')\n"
     ]
    }
   ],
   "source": [
    "\n",
    "# Drop duplicates and irrelevant columns\n",
    "drop_cols = [\n",
    "    \"open_x\", \"high_x\", \"low_x\", \"close_x\",   # drop spot OHLC, keep futures OHLC\n",
    "    \"intraday_x\", \"intraday_y\",               # consolidate later if needed\n",
    "    \"z_intraday_30_x\", \"z_intraday_30_y\",     # redundant, very high correlation\n",
    "    \"Unnamed: 0_x\", \"Unnamed: 0_y\",           # index junk\n",
    "    \"count\", \"close_time\"                     # metadata\n",
    "]\n",
    "\n",
    "master = master.drop(columns=drop_cols, errors=\"ignore\")\n",
    "\n",
    "# Rename for clarity\n",
    "master = master.rename(columns={\n",
    "    \"open_y\": \"open\",\n",
    "    \"high_y\": \"high\",\n",
    "    \"low_y\": \"low\",\n",
    "    \"close_y\": \"close\",\n",
    "    \"volume\": \"prep_volume\"   # differentiate futures vs spot volume\n",
    "})\n",
    "\n",
    "print(master.columns)\n",
    "\n",
    "master.to_csv('../Idea_data/master_data.csv', index=False)\n",
    "\n"
   ]
  },
  {
   "cell_type": "code",
   "execution_count": 9,
   "id": "07ff8a84",
   "metadata": {},
   "outputs": [
    {
     "name": "stdout",
     "output_type": "stream",
     "text": [
      "(119, 56)\n"
     ]
    }
   ],
   "source": [
    "print(master.shape)\n",
    "\n",
    "\n"
   ]
  }
 ],
 "metadata": {
  "kernelspec": {
   "display_name": "venv",
   "language": "python",
   "name": "python3"
  },
  "language_info": {
   "codemirror_mode": {
    "name": "ipython",
    "version": 3
   },
   "file_extension": ".py",
   "mimetype": "text/x-python",
   "name": "python",
   "nbconvert_exporter": "python",
   "pygments_lexer": "ipython3",
   "version": "3.13.7"
  }
 },
 "nbformat": 4,
 "nbformat_minor": 5
}
