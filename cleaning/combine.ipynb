{
 "cells": [
  {
   "cell_type": "code",
   "execution_count": null,
   "id": "fd6d2817",
   "metadata": {},
   "outputs": [],
   "source": [
    "import pandas as pd\n",
    "\n"
   ]
  },
  {
   "cell_type": "code",
   "execution_count": null,
   "id": "6eb031ad",
   "metadata": {},
   "outputs": [],
   "source": [
    "####SPOT####\n",
    "# Load cleaned monthly files (SPOT)\n",
    "june_spot = pd.read_csv(\"../btc_202506_spot.csv\")\n",
    "july_spot = pd.read_csv(\"../btc_202507_spot.csv\")\n",
    "aug_spot = pd.read_csv(\"../btc_202508_spot.csv\")\n",
    "\n",
    "\n",
    "# Combine them into one DataFrame\n",
    "spot_all = pd.concat([june_spot, july_spot, aug_spot])\n",
    "\n",
    "\n",
    "# Sort by time (important to fix order)\n",
    "spot_all = spot_all.sort_values(\"open_time\").reset_index(drop=True)\n",
    "\n",
    "\n",
    "# Save to a single file\n",
    "spot_all.to_csv(\"../btcspot_agg.csv\", index=False)\n",
    "\n",
    "spot_all\n"
   ]
  },
  {
   "cell_type": "code",
   "execution_count": null,
   "id": "b7155f03",
   "metadata": {},
   "outputs": [],
   "source": [
    "####FUTURE####\n",
    "# Load cleaned monthly files (FUTURE)\n",
    "june_future = pd.read_csv(\"../btc_202506_future.csv\")\n",
    "july_future = pd.read_csv(\"../btc_202507_future.csv\")\n",
    "aug_future = pd.read_csv(\"../btc_202508_future.csv\")\n",
    "\n",
    "# Combine them into one DataFrame\n",
    "future_all = pd.concat([june_future, july_future, aug_future])\n",
    "\n",
    "\n",
    "# Sort by time (important to fix order)\n",
    "future_all = future_all.sort_values(\"open_time\").reset_index(drop=True)\n",
    "\n",
    "# Save to a single file\n",
    "future_all.to_csv(\"../btcfuture_agg.csv\", index=False)\n",
    "\n",
    "future_all\n"
   ]
  },
  {
   "cell_type": "code",
   "execution_count": null,
   "id": "0cc5d1a9",
   "metadata": {},
   "outputs": [],
   "source": [
    "####FUNDING####\n",
    "# Load cleaned monthly files (FUNDING)\n",
    "june_funding = pd.read_csv(\"../btc_202506_funding.csv\")\n",
    "july_funding = pd.read_csv(\"../btc_202507_funding.csv\")\n",
    "aug_funding = pd.read_csv(\"../btc_202508_funding.csv\")\n",
    "\n",
    "\n",
    "# Combine them into one DataFrame\n",
    "funding_all = pd.concat([june_funding, july_funding, aug_funding])\n",
    "\n",
    "\n",
    "# Sort by time (important to fix order)\n",
    "funding_all = funding_all.sort_values(\"calc_time\").reset_index(drop=True)\n",
    "\n",
    "\n",
    "# Save to a single file\n",
    "funding_all.to_csv(\"../btcfunding_agg.csv\", index=False)\n",
    "\n",
    "funding_all"
   ]
  },
  {
   "cell_type": "code",
   "execution_count": null,
   "id": "595bc2ab",
   "metadata": {},
   "outputs": [],
   "source": []
  }
 ],
 "metadata": {
  "kernelspec": {
   "display_name": "venv",
   "language": "python",
   "name": "python3"
  },
  "language_info": {
   "codemirror_mode": {
    "name": "ipython",
    "version": 3
   },
   "file_extension": ".py",
   "mimetype": "text/x-python",
   "name": "python",
   "nbconvert_exporter": "python",
   "pygments_lexer": "ipython3",
   "version": "3.13.7"
  }
 },
 "nbformat": 4,
 "nbformat_minor": 5
}
