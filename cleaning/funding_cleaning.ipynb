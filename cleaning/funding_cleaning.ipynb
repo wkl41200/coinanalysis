{
 "cells": [
  {
   "cell_type": "code",
   "execution_count": 14,
   "id": "4546ba81",
   "metadata": {},
   "outputs": [],
   "source": [
    "import pandas as pd\n",
    "\n",
    "df = pd.read_csv('../BTCUSDT-funding-0625.csv') #loading data (to replace with file)\n",
    "\n",
    "# Convert timestamp to datetime\n",
    "df[\"calc_time\"] = pd.to_datetime(df[\"calc_time\"], unit=\"ms\")\n",
    "\n",
    "# Ensure funding_rate is numeric\n",
    "df[\"last_funding_rate\"] = pd.to_numeric(df[\"last_funding_rate\"], errors=\"coerce\")\n",
    "\n",
    "# Drop funding_interval_hours if it's always 8\n",
    "df = df.drop(columns=[\"funding_interval_hours\"])\n",
    "\n",
    "\n",
    "\n"
   ]
  },
  {
   "cell_type": "code",
   "execution_count": 15,
   "id": "2e40b89a",
   "metadata": {},
   "outputs": [],
   "source": [
    "# Save the cleaned DataFrame to a new CSV file\n",
    "df.to_csv(\"../btc_202506_funding.csv\", index=False)\n",
    "\n"
   ]
  }
 ],
 "metadata": {
  "kernelspec": {
   "display_name": "venv",
   "language": "python",
   "name": "python3"
  },
  "language_info": {
   "codemirror_mode": {
    "name": "ipython",
    "version": 3
   },
   "file_extension": ".py",
   "mimetype": "text/x-python",
   "name": "python",
   "nbconvert_exporter": "python",
   "pygments_lexer": "ipython3",
   "version": "3.13.7"
  }
 },
 "nbformat": 4,
 "nbformat_minor": 5
}
