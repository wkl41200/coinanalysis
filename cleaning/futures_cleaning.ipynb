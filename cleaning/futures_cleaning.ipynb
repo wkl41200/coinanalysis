{
 "cells": [
  {
   "cell_type": "code",
   "execution_count": null,
   "id": "2a863f1a",
   "metadata": {},
   "outputs": [],
   "source": [
    "import pandas as pd\n",
    "\n",
    "df = pd.read_csv('C:/Users/Duncan Wan/Desktop/VSCODE/4hrs/future/BTCUSDT-4h-2025-04.csv')\n",
    "\n",
    "\n",
    "\n",
    "\n"
   ]
  },
  {
   "cell_type": "code",
   "execution_count": null,
   "id": "b1fd149f",
   "metadata": {},
   "outputs": [],
   "source": [
    "# Convert timestamps (Binance uses milliseconds since epoch)\n",
    "df[\"open_time\"] = pd.to_datetime(df[\"open_time\"], unit=\"ms\")\n",
    "df[\"close_time\"] = pd.to_datetime(df[\"close_time\"], unit=\"ms\")\n",
    "\n",
    "\n",
    "# Define numeric columns (everything except time + ignore)\n",
    "numeric_cols = [\n",
    "    \"open\", \"high\", \"low\", \"close\", \"volume\",\n",
    "    \"quote_volume\", \"count\", \"taker_buy_volume\", \"taker_buy_quote_volume\"\n",
    "]\n",
    "\n",
    "\n",
    "\n",
    "# Drop the \"ignore\" column since it's useless\n",
    "df = df.drop(columns=[\"ignore\"])\n",
    "\n",
    "\n",
    "\n",
    "# Save the cleaned DataFrame to a new CSV file\n",
    "df.to_csv(\"../btc_202505_future.csv\", index=False)\n",
    "\n",
    "\n",
    "df\n"
   ]
  }
 ],
 "metadata": {
  "kernelspec": {
   "display_name": "Python 3",
   "language": "python",
   "name": "python3"
  },
  "language_info": {
   "codemirror_mode": {
    "name": "ipython",
    "version": 3
   },
   "file_extension": ".py",
   "mimetype": "text/x-python",
   "name": "python",
   "nbconvert_exporter": "python",
   "pygments_lexer": "ipython3",
   "version": "3.13.8"
  }
 },
 "nbformat": 4,
 "nbformat_minor": 5
}
