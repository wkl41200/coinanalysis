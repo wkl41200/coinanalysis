{
 "cells": [
  {
   "cell_type": "code",
   "execution_count": 13,
   "id": "802d0487",
   "metadata": {},
   "outputs": [],
   "source": [
    "import pandas as pd\n",
    "from pathlib import Path\n",
    "\n",
    "\n",
    "# paths (edit to your actual folder)\n",
    "SRC = Path(r\"/Users/duncanwan/Desktop/learning/Bitcoin/4hrs/future\")\n",
    "OUT = SRC / \"cleaned\"  #out to cleaned file\n",
    "OUT.mkdir(exist_ok=True)   #create if not exist\n",
    "files = sorted(SRC.glob(\"BTCUSDT-4h-2025-*.csv\"))\n",
    "\n",
    "\n",
    "all_frames = []       # collect per-file DataFrames for one big concat\n",
    "\n",
    "HAS_HEADER = False\n"
   ]
  },
  {
   "cell_type": "code",
   "execution_count": 14,
   "id": "271e52ea",
   "metadata": {},
   "outputs": [],
   "source": [
    "col_names = [\n",
    "    \"open_time\",\"open\",\"high\",\"low\",\"close\",\"volume\",\n",
    "    \"close_time\",\"quote_volume\",\"count\",\n",
    "    \"taker_buy_volume\",\"taker_buy_quote_volume\",\"ignore\"\n",
    "]\n",
    "\n",
    "numeric_cols = [\n",
    "     \"open\", \"high\", \"low\", \"close\", \"volume\",\n",
    "     \"quote_volume\", \"count\", \"taker_buy_volume\", \"taker_buy_quote_volume\"\n",
    " ]"
   ]
  },
  {
   "cell_type": "code",
   "execution_count": 15,
   "id": "9b6d9d4b",
   "metadata": {},
   "outputs": [],
   "source": [
    "for fp in files:\n",
    "    df = pd.read_csv(fp)\n",
    "    df[\"open_time\"]  = pd.to_datetime(df[\"open_time\"],  unit=\"ms\")\n",
    "    df[\"close_time\"] = pd.to_datetime(df[\"close_time\"], unit=\"ms\")\n",
    "    if \"ignore\" in df.columns:\n",
    "        df = df.drop(columns=[\"ignore\"])\n",
    "    df.to_csv(OUT / f\"{fp.stem}_clean.csv\", index=False)\n",
    "    all_frames.append(df)\n",
    "\n",
    "combined = pd.concat(all_frames, ignore_index=True).sort_values(\"open_time\").reset_index(drop=True)\n",
    "combined.to_csv(OUT / \"BTCUSDT-4h-2025-04-08-cleaned.csv\", index=False)\n",
    "\n",
    "    \n"
   ]
  }
 ],
 "metadata": {
  "kernelspec": {
   "display_name": "venv",
   "language": "python",
   "name": "python3"
  },
  "language_info": {
   "codemirror_mode": {
    "name": "ipython",
    "version": 3
   },
   "file_extension": ".py",
   "mimetype": "text/x-python",
   "name": "python",
   "nbconvert_exporter": "python",
   "pygments_lexer": "ipython3",
   "version": "3.13.7"
  }
 },
 "nbformat": 4,
 "nbformat_minor": 5
}
