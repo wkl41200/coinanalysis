{
 "cells": [
  {
   "cell_type": "code",
   "execution_count": 2,
   "id": "03cb0c91",
   "metadata": {},
   "outputs": [],
   "source": [
    "import pandas as pd\n",
    "from pathlib import Path\n",
    "\n",
    "\n",
    "# paths (edit to your actual folder)\n",
    "#SRC = Path(\"/Users/duncanwan/Desktop/learning/Bitcoin/4hrs/spot\")     #mac\n",
    "SRC = Path(r\"C:\\Users\\Duncan Wan\\Desktop\\VSCODE\\4hrs\\spot\")    #windows\n",
    "OUT = SRC / \"cleaned\"  #out to cleaned file\n",
    "OUT.mkdir(exist_ok=True)   #create if not exist\n",
    "files = sorted(SRC.glob(\"BTCUSDT-4h-20*-*.csv\"))\n",
    "\n",
    "\n",
    "all_frames = []       # collect per-file DataFrames for one big concat\n",
    "\n",
    "col_names = [\n",
    "    \"open_time\", \"open\", \"high\", \"low\", \"close\", \"volume\",\n",
    "    \"close_time\", \"quote_asset_volume\", \"number_of_trades\",\n",
    "    \"taker_buy_base_asset_volume\", \"taker_buy_quote_asset_volume\", \"ignore\"\n",
    "]\n",
    "\n",
    "numeric_cols = [\n",
    "   \"open\", \"high\", \"low\", \"close\", \"volume\",\n",
    "    \"quote_asset_volume\", \"number_of_trades\",\n",
    "    \"taker_buy_base_asset_volume\", \"taker_buy_quote_asset_volume\"]\n",
    "\n",
    "\n",
    "def to_datetime_auto(series: pd.Series) -> pd.Series:\n",
    "    s = pd.to_numeric(series, errors=\"coerce\")\n",
    "    # microseconds have 16 digits (>= 1e15); milliseconds ~ 13 digits (< 1e15)\n",
    "    us_mask = s >= 1_000_000_000_000_000  # 1e15\n",
    "    out = pd.Series(pd.NaT, index=s.index, dtype=\"datetime64[ns, UTC]\")\n",
    "    out[us_mask]  = pd.to_datetime(s[us_mask],  unit=\"us\", utc=True)\n",
    "    out[~us_mask] = pd.to_datetime(s[~us_mask], unit=\"ms\", utc=True)\n",
    "    return out\n",
    "\n",
    "for fp in files:\n",
    "    df = pd.read_csv(fp, header=None, names=col_names)\n",
    "\n",
    "    df[\"open_time\"]  = to_datetime_auto(df[\"open_time\"])\n",
    "    df[\"close_time\"] = to_datetime_auto(df[\"close_time\"])\n",
    "\n",
    "    if \"ignore\" in df.columns:\n",
    "        df = df.drop(columns=[\"ignore\"])\n",
    "\n",
    "    df.to_csv(OUT / f\"{fp.stem}_clean.csv\", index=False)\n",
    "    all_frames.append(df)\n",
    "\n",
    "combined = (\n",
    "    pd.concat(all_frames, ignore_index=True)\n",
    "      .sort_values(\"open_time\")\n",
    "      .reset_index(drop=True)\n",
    ")\n",
    "combined.to_csv(OUT / \"BTCUSDT_4h_2024_cleaned_v1.csv\", index=False)"
   ]
  }
 ],
 "metadata": {
  "kernelspec": {
   "display_name": ".venv",
   "language": "python",
   "name": "python3"
  },
  "language_info": {
   "codemirror_mode": {
    "name": "ipython",
    "version": 3
   },
   "file_extension": ".py",
   "mimetype": "text/x-python",
   "name": "python",
   "nbconvert_exporter": "python",
   "pygments_lexer": "ipython3",
   "version": "3.13.8"
  }
 },
 "nbformat": 4,
 "nbformat_minor": 5
}
