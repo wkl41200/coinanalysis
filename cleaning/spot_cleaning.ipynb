{
 "cells": [
  {
   "cell_type": "code",
   "execution_count": null,
   "id": "11e00ffb",
   "metadata": {},
   "outputs": [],
   "source": [
    "import pandas as pd\n",
    "\n",
    "df = pd.read_csv('../BTCUSDT-1d-2025-06_spot.csv') #loading data (to replace with file)\n"
   ]
  },
  {
   "cell_type": "code",
   "execution_count": null,
   "id": "d4147a57",
   "metadata": {},
   "outputs": [],
   "source": [
    "#add column names\n",
    "df.columns = [\n",
    "    \"open_time\", \"open\", \"high\", \"low\", \"close\", \"volume\",\n",
    "    \"close_time\", \"quote_asset_volume\", \"number_of_trades\",\n",
    "    \"taker_buy_base_asset_volume\", \"taker_buy_quote_asset_volume\", \"ignore\"\n",
    "]\n",
    "\n",
    "# Convert timestamps (Binance uses milliseconds since epoch)\n",
    "df[\"open_time\"] = pd.to_datetime(df[\"open_time\"], unit=\"us\")\n",
    "df[\"close_time\"] = pd.to_datetime(df[\"close_time\"], unit=\"us\")\n",
    "\n",
    "\n",
    "df"
   ]
  },
  {
   "cell_type": "code",
   "execution_count": null,
   "id": "40ef9cbc",
   "metadata": {},
   "outputs": [],
   "source": [
    "# Ensure numeric columns (just in case they are read as strings)\n",
    "numeric_cols = [\n",
    "    \"open\", \"high\", \"low\", \"close\", \"volume\",\n",
    "    \"quote_asset_volume\", \"number_of_trades\",\n",
    "    \"taker_buy_base_asset_volume\", \"taker_buy_quote_asset_volume\"]\n",
    "\n",
    "# Drop the \"ignore\" column since it's useless\n",
    "#df = df.drop(columns=[\"ignore\"])\n",
    "\n",
    "# Save the cleaned DataFrame to a new CSV file\n",
    "df.to_csv(\"../btc_202506_spot.csv\", index=False)\n",
    "\n"
   ]
  }
 ],
 "metadata": {
  "kernelspec": {
   "display_name": "venv",
   "language": "python",
   "name": "python3"
  },
  "language_info": {
   "codemirror_mode": {
    "name": "ipython",
    "version": 3
   },
   "file_extension": ".py",
   "mimetype": "text/x-python",
   "name": "python",
   "nbconvert_exporter": "python",
   "pygments_lexer": "ipython3",
   "version": "3.13.7"
  }
 },
 "nbformat": 4,
 "nbformat_minor": 5
}
