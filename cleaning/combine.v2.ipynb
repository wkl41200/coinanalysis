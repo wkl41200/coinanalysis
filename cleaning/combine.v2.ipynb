{
 "cells": [
  {
   "cell_type": "code",
   "execution_count": 6,
   "id": "62905c79",
   "metadata": {},
   "outputs": [
    {
     "name": "stderr",
     "output_type": "stream",
     "text": [
      "/var/folders/kz/cfb6kmcd0j5g728cbyjlwwvw0000gp/T/ipykernel_59172/184857900.py:18: FutureWarning: 'H' is deprecated and will be removed in a future version, please use 'h' instead.\n",
      "  spot[\"close_time\"] = spot[\"close_time\"].dt.round('H')\n",
      "/var/folders/kz/cfb6kmcd0j5g728cbyjlwwvw0000gp/T/ipykernel_59172/184857900.py:19: FutureWarning: 'H' is deprecated and will be removed in a future version, please use 'h' instead.\n",
      "  prep[\"close_time\"] = prep[\"close_time\"].dt.round('H')\n",
      "/var/folders/kz/cfb6kmcd0j5g728cbyjlwwvw0000gp/T/ipykernel_59172/184857900.py:20: FutureWarning: 'H' is deprecated and will be removed in a future version, please use 'h' instead.\n",
      "  funding[\"calc_time\"] = funding[\"calc_time\"].dt.round('H')\n"
     ]
    }
   ],
   "source": [
    "import pandas as pd\n",
    "import numpy as np\n",
    "\n",
    "funding = pd.read_csv('/Users/duncanwan/Desktop/learning/Bitcoin/Clean_data/btcfunding_agg.csv',\n",
    "                     usecols = ['calc_time', 'last_funding_rate'])\n",
    "\n",
    "spot = pd.read_csv('/Users/duncanwan/Desktop/learning/Bitcoin/4hrs/spot/cleaned/BTCUSDT-4h-2025-04-08-cleaned.csv',\n",
    "                  usecols = ['close_time','close','volume'])\n",
    "\n",
    "prep = pd.read_csv('/Users/duncanwan/Desktop/learning/Bitcoin/4hrs/future/cleaned/BTCUSDT-4h-2025-04-08-cleaned.csv',\n",
    "                  usecols = ['close_time','close','volume'])\n",
    "\n",
    "# <span style=\"background-color: #ff0000\">Changed: Use floor() instead of ceil() to round DOWN</span>\n",
    "spot[\"close_time\"] = pd.to_datetime(spot[\"close_time\"], utc=True).dt.round('s')  # <span style=\"background-color: #ff0000\">CHANGED: ceil → floor</span>\n",
    "prep[\"close_time\"] = pd.to_datetime(prep[\"close_time\"], utc=True).dt.round('s')  # <span style=\"background-color: #ff0000\">CHANGED: ceil → floor</span>\n",
    "funding[\"calc_time\"] = pd.to_datetime(funding[\"calc_time\"], utc=True).dt.round('s')  # <span style=\"background-color: #ff0000\">REMOVED .dt.ceil() - keep original 8h timestamps</span>\n",
    "\n",
    "spot[\"close_time\"] = spot[\"close_time\"].dt.round('H')\n",
    "prep[\"close_time\"] = prep[\"close_time\"].dt.round('H')\n",
    "funding[\"calc_time\"] = funding[\"calc_time\"].dt.round('H')\n",
    "\n",
    "\n",
    "spot = spot.rename(columns={\"close_time\":\"bar_end\",\n",
    "                           \"close\":\"spot_close\",\n",
    "                           \"volume\":\"spot_vol\"})\n",
    "prep = prep.rename(columns={\"close_time\":\"bar_end\",\n",
    "                           \"close\":\"perp_close\",\n",
    "                           \"volume\":\"perp_vol\"})\n",
    "funding= funding.rename(columns={\"last_funding_rate\":\"funding\"})\n",
    "\n",
    "spot = spot.sort_values(\"bar_end\").drop_duplicates(\"bar_end\")\n",
    "prep = prep.sort_values(\"bar_end\").drop_duplicates(\"bar_end\")\n",
    "funding = funding.sort_values(\"calc_time\").drop_duplicates(\"calc_time\")\n",
    "\n",
    "# Merge spot and prep\n",
    "bars = (\n",
    "    spot[['bar_end','spot_close','spot_vol']]\n",
    "    .merge(prep[['bar_end','perp_close','perp_vol']], on='bar_end', how='inner')\n",
    "    .sort_values('bar_end')\n",
    ")\n",
    "\n",
    "# <span style=\"background-color: #ff0000\">CRITICAL FIX: Changed direction from 'backward' to 'forward'</span>\n",
    "f8 = funding[['calc_time','funding']].sort_values('calc_time')\n",
    "\n",
    "bars = pd.merge_asof(\n",
    "    bars,\n",
    "    f8,\n",
    "    left_on='bar_end',\n",
    "    right_on='calc_time',\n",
    "    direction='backward',  # <span style=\"background-color: #ff0000\">CHANGED: backward → forward</span>\n",
    "    allow_exact_matches=True\n",
    ").drop(columns='calc_time').rename(columns={'funding':'funding_rate'})\n",
    "\n",
    "bars.to_csv('/Users/duncanwan/Desktop/learning/Bitcoin/4hrs/BTC_combined_2504_08v4.csv')"
   ]
  }
 ],
 "metadata": {
  "kernelspec": {
   "display_name": "venv",
   "language": "python",
   "name": "python3"
  },
  "language_info": {
   "codemirror_mode": {
    "name": "ipython",
    "version": 3
   },
   "file_extension": ".py",
   "mimetype": "text/x-python",
   "name": "python",
   "nbconvert_exporter": "python",
   "pygments_lexer": "ipython3",
   "version": "3.13.7"
  }
 },
 "nbformat": 4,
 "nbformat_minor": 5
}
