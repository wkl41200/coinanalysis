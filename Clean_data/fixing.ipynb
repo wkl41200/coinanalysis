{
 "cells": [
  {
   "cell_type": "code",
   "execution_count": 6,
   "id": "debd57cb",
   "metadata": {},
   "outputs": [
    {
     "name": "stdout",
     "output_type": "stream",
     "text": [
      "Using file: /Users/duncanwan/Desktop/learning/Bitcoin/Clean_data/btcfuture_agg.csv\n",
      "Rows before: 154 | after: 123 | removed: 31\n",
      "Saved back to: /Users/duncanwan/Desktop/learning/Bitcoin/Clean_data/btcfuture_agg.csv\n"
     ]
    }
   ],
   "source": [
    "import pandas as pd\n",
    "from pathlib import Path\n",
    "\n",
    "# ==== CONFIG ====\n",
    "FILENAME = \"btcfuture_agg.csv\"   # just the filename; we’ll search for it\n",
    "KEEP     = \"last\"                # or \"first\" if you prefer earliest row per day\n",
    "\n",
    "# ==== FIND THE FILE ====\n",
    "root = Path.cwd()\n",
    "candidates = list(root.rglob(FILENAME))\n",
    "if not candidates:\n",
    "    raise FileNotFoundError(f\"Could not find '{FILENAME}' under {root}. \"\n",
    "                            f\"Tip: check the exact filename or set FILENAME to the right name.\")\n",
    "IN_FILE = candidates[0]          # take the first match; change if you have multiple\n",
    "OUT_FILE = IN_FILE               # overwrite in place\n",
    "\n",
    "print(f\"Using file: {IN_FILE}\")\n",
    "\n",
    "# ==== LOAD ====\n",
    "df = pd.read_csv(IN_FILE)\n",
    "\n",
    "# detect a timestamp column\n",
    "time_col = next((c for c in [\"open_time\",\"close_time\",\"timestamp\",\"date\",\"time\"] if c in df.columns), None)\n",
    "if time_col is None:\n",
    "    raise ValueError(\"No time column found. Expected one of: open_time/close_time/timestamp/date/time\")\n",
    "\n",
    "# ==== NORMALIZE TO DAILY (UTC) ====\n",
    "dt = pd.to_datetime(df[time_col], errors=\"coerce\", utc=True)\n",
    "df[\"date\"] = dt.dt.tz_localize(None).dt.normalize()\n",
    "\n",
    "# ==== DEDUPE BY DAY ====\n",
    "before = len(df)\n",
    "clean = (\n",
    "    df.sort_values(time_col)                 # deterministic keep\n",
    "      .drop_duplicates(subset=\"date\", keep=KEEP)\n",
    "      .sort_values(\"date\")\n",
    "      .reset_index(drop=True)\n",
    ")\n",
    "\n",
    "# ==== SAVE & CHECK ====\n",
    "clean.to_csv(OUT_FILE, index=False)\n",
    "assert clean[\"date\"].is_unique, \"Still found duplicate dates after dedupe.\"\n",
    "\n",
    "print(f\"Rows before: {before} | after: {len(clean)} | removed: {before - len(clean)}\")\n",
    "print(f\"Saved back to: {OUT_FILE}\")\n",
    "\n"
   ]
  }
 ],
 "metadata": {
  "kernelspec": {
   "display_name": "venv",
   "language": "python",
   "name": "python3"
  },
  "language_info": {
   "codemirror_mode": {
    "name": "ipython",
    "version": 3
   },
   "file_extension": ".py",
   "mimetype": "text/x-python",
   "name": "python",
   "nbconvert_exporter": "python",
   "pygments_lexer": "ipython3",
   "version": "3.13.7"
  }
 },
 "nbformat": 4,
 "nbformat_minor": 5
}
